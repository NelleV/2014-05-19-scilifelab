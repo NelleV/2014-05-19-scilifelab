{
 "metadata": {
  "name": ""
 },
 "nbformat": 3,
 "nbformat_minor": 0,
 "worksheets": [
  {
   "cells": [
    {
     "cell_type": "heading",
     "level": 2,
     "metadata": {},
     "source": [
      "Atoms"
     ]
    },
    {
     "cell_type": "code",
     "collapsed": false,
     "input": [
      "class Atom(object):\n",
      "\n",
      "\tdef __init__(self, element, position): \n",
      "\t\tself.element = element \n",
      "\t\tself.position = position \n",
      "\n",
      "\tdef translate_by(self, vector):\n",
      "\t\tself.position = self.position + vector\n",
      "\n",
      "\tdef center_of_mass(self): \n",
      "\t\treturn self.position \n",
      "\n",
      "\tdef mass(self): \n",
      "\t\treturn masses_by_element[self.element]"
     ],
     "language": "python",
     "metadata": {},
     "outputs": [],
     "prompt_number": 1
    },
    {
     "cell_type": "code",
     "collapsed": false,
     "input": [
      "masses_by_element = {'H': 1., 'C': 12., 'N': 14., 'O': 16.}"
     ],
     "language": "python",
     "metadata": {},
     "outputs": [],
     "prompt_number": 2
    },
    {
     "cell_type": "heading",
     "level": 2,
     "metadata": {},
     "source": [
      "Molecules are groups of atoms (no bonds to keep it simple)"
     ]
    },
    {
     "cell_type": "code",
     "collapsed": false,
     "input": [
      "class Molecule(object):\n",
      "\n",
      "    def __init__(self, atom_dict):\n",
      "        assert isinstance(atom_dict, dict)\n",
      "        self.atoms = atom_dict \n",
      "\n",
      "    def translate_by(self, vector): \n",
      "        for atom in self.atoms.values(): \n",
      "            atom.translate_by(vector) \n",
      "\n",
      "    def center_of_mass(self): \n",
      "        sum1 = 0. \n",
      "        sum2 = Vector(0., 0., 0.) \n",
      "        for atom in self.atoms.values(): \n",
      "            sum1 = sum1 + atom.mass() \n",
      "            sum2 = sum2 + atom.mass()*atom.center_of_mass() \n",
      "        return sum2/sum1\n",
      "\n",
      "    def mass(self):\n",
      "        return sum(a.mass()\n",
      "                   for a in self.atoms.values())"
     ],
     "language": "python",
     "metadata": {},
     "outputs": [],
     "prompt_number": 3
    },
    {
     "cell_type": "heading",
     "level": 2,
     "metadata": {},
     "source": [
      "Chains are sequences of residues (which are molecules, to keep it simple)"
     ]
    },
    {
     "cell_type": "code",
     "collapsed": false,
     "input": [
      "class Chain(object):\n",
      "    \n",
      "    def __init__(self, residue_list):\n",
      "        assert isinstance(residue_list, list)\n",
      "        self.residues = residue_list\n",
      "\n",
      "    def translate_by(self, vector): \n",
      "        for residue in self.residues: \n",
      "            residue.translate_by(vector) \n",
      "\n",
      "    def center_of_mass(self):\n",
      "        sum1 = 0. \n",
      "        sum2 = Vector(0., 0., 0.) \n",
      "        for residue in self.residues: \n",
      "            sum1 = sum1 + residue.mass() \n",
      "            sum2 = sum2 + residue.mass()*residue.center_of_mass() \n",
      "        return sum2/sum1\n",
      "\n",
      "    def mass(self):\n",
      "        return sum(a.residue()\n",
      "                   for a in self.residues)"
     ],
     "language": "python",
     "metadata": {},
     "outputs": [],
     "prompt_number": 4
    },
    {
     "cell_type": "heading",
     "level": 2,
     "metadata": {},
     "source": [
      "A minimal version of the Vector class"
     ]
    },
    {
     "cell_type": "code",
     "collapsed": false,
     "input": [
      "import numbers\n",
      "\n",
      "class Vector(object):\n",
      "    \n",
      "    def __init__(self, x, y, z):\n",
      "        assert isinstance(x, numbers.Number)\n",
      "        assert isinstance(y, numbers.Number)\n",
      "        assert isinstance(z, numbers.Number)\n",
      "        self.x = x\n",
      "        self.y = y\n",
      "        self.z = z\n",
      "        \n",
      "    def __repr__(self):\n",
      "        return \"Vector(%s, %s, %s)\" % (repr(self.x), repr(self.y), repr(self.z))\n",
      "\n",
      "    def __add__(self, other):\n",
      "        assert isinstance(other, Vector)\n",
      "        return Vector(self.x+other.x, self.y+other.y, self.z+other.z)\n",
      "    \n",
      "    def __sub__(self, other):\n",
      "        assert isinstance(other, Vector)\n",
      "        return Vector(self.x-other.x, self.y-other.y, self.z-other.z)\n",
      "\n",
      "    def __neg__(self):\n",
      "        return Vector(-self.x, -self.y, -self.z)\n",
      "\n",
      "    def __mul__(self, other):\n",
      "        assert isinstance(other, numbers.Number)\n",
      "        return Vector(other*self.x, other*self.y, other*self.z)\n",
      "    __rmul__ = __mul__\n",
      "\n",
      "    def __div__(self, other):\n",
      "        assert isinstance(other, numbers.Number)\n",
      "        return Vector(self.x/other, self.y/other, self.z/other)"
     ],
     "language": "python",
     "metadata": {},
     "outputs": [],
     "prompt_number": 5
    },
    {
     "cell_type": "heading",
     "level": 2,
     "metadata": {},
     "source": [
      "A water molecule"
     ]
    },
    {
     "cell_type": "code",
     "collapsed": false,
     "input": [
      "o =  Atom('O', Vector( 0.,              0.,  0.00655616814675))\n",
      "h1 = Atom('H', Vector(-0.0756950327264, 0., -0.0520320595151))\n",
      "h2 = Atom('H', Vector( 0.0756950327264, 0., -0.0520320595151))\n",
      "water = Molecule({'O': o, 'H1': h1, 'H2': h2})"
     ],
     "language": "python",
     "metadata": {},
     "outputs": [],
     "prompt_number": 6
    },
    {
     "cell_type": "code",
     "collapsed": false,
     "input": [
      "water.center_of_mass()"
     ],
     "language": "python",
     "metadata": {},
     "outputs": [
      {
       "metadata": {},
       "output_type": "pyout",
       "prompt_number": 7,
       "text": [
        "Vector(0.0, 0.0, 4.636507321111116e-05)"
       ]
      }
     ],
     "prompt_number": 7
    },
    {
     "cell_type": "code",
     "collapsed": false,
     "input": [
      "water.translate_by(Vector(0., -0.5, 0.))\n",
      "water.center_of_mass()"
     ],
     "language": "python",
     "metadata": {},
     "outputs": [
      {
       "metadata": {},
       "output_type": "pyout",
       "prompt_number": 8,
       "text": [
        "Vector(0.0, -0.5, 4.636507321111116e-05)"
       ]
      }
     ],
     "prompt_number": 8
    },
    {
     "cell_type": "code",
     "collapsed": false,
     "input": [
      "water.translate_by(-water.center_of_mass())\n",
      "water.center_of_mass()"
     ],
     "language": "python",
     "metadata": {},
     "outputs": [
      {
       "metadata": {},
       "output_type": "pyout",
       "prompt_number": 9,
       "text": [
        "Vector(0.0, 0.0, 0.0)"
       ]
      }
     ],
     "prompt_number": 9
    },
    {
     "cell_type": "heading",
     "level": 2,
     "metadata": {},
     "source": [
      "A peptide chains"
     ]
    },
    {
     "cell_type": "code",
     "collapsed": false,
     "input": [
      "LYS_1 = Molecule({'N':    Atom('N', Vector( 0.3336,  1.0074,  1.0331)),\n",
      "                  'CA':   Atom('C', Vector( 0.2429 , 1.0424 , 0.9199)),\n",
      "                  'C':    Atom('C', Vector( 0.2415,  1.1932,  0.8954)),\n",
      "                  'O':    Atom('O', Vector( 0.2390,  1.2719,  0.9904)),\n",
      "                  'CB':   Atom('C', Vector( 0.1000 , 0.9944 , 0.9506)),\n",
      "                  'CG':   Atom('C', Vector(-0.0038 , 1.0444 , 0.8543)),\n",
      "                  'CD':   Atom('C', Vector(-0.1418 , 0.9911 , 0.8867)),\n",
      "                  'CE':   Atom('C', Vector(-0.2457 , 1.0562 , 0.7967)),\n",
      "                  'NZ':   Atom('N', Vector(-0.3794 , 0.9917 , 0.8074))})\n",
      "\n",
      "VAL_2 = Molecule({'N':    Atom('N', Vector( 0.2467,  1.2329,  0.7688)),\n",
      "                  'CA':   Atom('C', Vector( 0.2417,  1.3741,  0.7336)),\n",
      "                  'C':    Atom('C', Vector( 0.0998,  1.3990,  0.6840)),\n",
      "                  'O':    Atom('O', Vector( 0.0574,  1.3412,  0.5844)),\n",
      "                  'CB':   Atom('C', Vector( 0.3462,  1.4126,  0.6256)),\n",
      "                  'CG1':  Atom('C', Vector( 0.3289,  1.5600,  0.5850)),\n",
      "                  'CG2':  Atom('C', Vector( 0.4873,  1.3911,  0.6799))})\n",
      "                        \n",
      "PHE_3 = Molecule({'N':    Atom('N', Vector( 0.0228,  1.4755,  0.7598)),\n",
      "                  'CA':   Atom('C', Vector(-0.1151 , 1.5035,  0.7227)),\n",
      "                  'C':    Atom('C', Vector(-0.1286,  1.6080,  0.6143)),\n",
      "                  'O':    Atom('O', Vector(-0.0405,  1.6923,  0.5955)),\n",
      "                  'CB':   Atom('C', Vector(-0.1933,  1.5551,  0.8437)),\n",
      "                  'CG':   Atom('C', Vector(-0.2507,  1.4472,  0.9306)),\n",
      "                  'CD1':  Atom('C', Vector(-0.1719,  1.3848,  1.0278)),\n",
      "                  'CD2':  Atom('C', Vector(-0.3849,  1.4100,  0.9179)),\n",
      "                  'CE1':  Atom('C', Vector(-0.2261,  1.2871,  1.1111)),\n",
      "                  'CE2':  Atom('C', Vector(-0.4405,  1.3121,  1.0007)),\n",
      "                  'CZ':   Atom('C', Vector(-0.3609,  1.2505,  1.0978))})\n",
      "\n",
      "chain = Chain([LYS_1, VAL_2, PHE_3])"
     ],
     "language": "python",
     "metadata": {},
     "outputs": [],
     "prompt_number": 10
    },
    {
     "cell_type": "code",
     "collapsed": false,
     "input": [
      "chain.center_of_mass()"
     ],
     "language": "python",
     "metadata": {},
     "outputs": [
      {
       "metadata": {},
       "output_type": "pyout",
       "prompt_number": 11,
       "text": [
        "Vector(0.0009482558139534885, 1.306375, 0.8268366279069768)"
       ]
      }
     ],
     "prompt_number": 11
    },
    {
     "cell_type": "code",
     "collapsed": false,
     "input": [
      "chain.translate_by(-chain.center_of_mass())\n",
      "chain.center_of_mass()"
     ],
     "language": "python",
     "metadata": {},
     "outputs": [
      {
       "metadata": {},
       "output_type": "pyout",
       "prompt_number": 12,
       "text": [
        "Vector(0.0, -6.196593625814827e-17, -1.0327656043024712e-17)"
       ]
      }
     ],
     "prompt_number": 12
    }
   ],
   "metadata": {}
  }
 ]
}