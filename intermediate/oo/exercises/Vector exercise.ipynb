{
 "metadata": {
  "name": ""
 },
 "nbformat": 3,
 "nbformat_minor": 0,
 "worksheets": [
  {
   "cells": [
    {
     "cell_type": "heading",
     "level": 2,
     "metadata": {},
     "source": [
      "A longer example for a class: vectors for 3D geometry"
     ]
    },
    {
     "cell_type": "markdown",
     "metadata": {},
     "source": [
      "Unfortunately some malicious person has mutilated the definition of class Vector, so it doesn't work any more. Please fix it!"
     ]
    },
    {
     "cell_type": "code",
     "collapsed": false,
     "input": [
      "import numbers"
     ],
     "language": "python",
     "metadata": {},
     "outputs": []
    },
    {
     "cell_type": "code",
     "collapsed": false,
     "input": [
      "class Vector(object):\n",
      "    \n",
      "    def __init__(self, x, y, z):\n",
      "        assert isinstance(x, numbers.Number)\n",
      "        assert isinstance(y, numbers.Number)\n",
      "        assert isinstance(z, numbers.Number)\n",
      "        self.x = x\n",
      "        self.y = y\n",
      "        self.z = z\n",
      "        \n",
      "    def __repr__(self):\n",
      "        return \"Vector(%s, %s, %s)\" % (repr(self.x), repr(self.y), repr(self.z))\n",
      "    \n",
      "    def __getitem__(self, index):\n",
      "        assert 0 <= index < 3\n",
      "        raise NotImplemented\n",
      "\n",
      "    def __add__(self, other):\n",
      "        assert isinstance(other, Vector)\n",
      "        return Vector(self.x+other.x, self.y+other.y, self.z+other.z)\n",
      "    \n",
      "    def __mul__(self, other):\n",
      "        assert isinstance(other, numbers.Number)\n",
      "        return Vector(other*self.x, other*self.y, other*self.z)\n",
      "    __rmul__ = __mul__\n",
      "\n",
      "    def cross(self, other):\n",
      "        raise NotImplemented"
     ],
     "language": "python",
     "metadata": {},
     "outputs": []
    },
    {
     "cell_type": "heading",
     "level": 2,
     "metadata": {},
     "source": [
      "Creating and inspecting vectors"
     ]
    },
    {
     "cell_type": "code",
     "collapsed": false,
     "input": [
      "ex = Vector(1, 0, 0)\n",
      "ey = Vector(0, 1, 0)\n",
      "ez = Vector(0, 0, 1)"
     ],
     "language": "python",
     "metadata": {},
     "outputs": []
    },
    {
     "cell_type": "code",
     "collapsed": false,
     "input": [
      "ex, ey, ez"
     ],
     "language": "python",
     "metadata": {},
     "outputs": []
    },
    {
     "cell_type": "code",
     "collapsed": false,
     "input": [
      "# This should fail with an AssertionError\n",
      "foo = Vector('a', None, Vector)"
     ],
     "language": "python",
     "metadata": {},
     "outputs": []
    },
    {
     "cell_type": "code",
     "collapsed": false,
     "input": [
      "ex[0], ex[1], ex[2]"
     ],
     "language": "python",
     "metadata": {},
     "outputs": []
    },
    {
     "cell_type": "code",
     "collapsed": false,
     "input": [
      "# This should fail with an AssertionError\n",
      "ex[3]"
     ],
     "language": "python",
     "metadata": {},
     "outputs": []
    },
    {
     "cell_type": "code",
     "collapsed": false,
     "input": [
      "# This should fail with an AssertionError\n",
      "ex[-10]"
     ],
     "language": "python",
     "metadata": {},
     "outputs": []
    },
    {
     "cell_type": "heading",
     "level": 2,
     "metadata": {},
     "source": [
      "Artithmetic on vectors"
     ]
    },
    {
     "cell_type": "code",
     "collapsed": false,
     "input": [
      "ex+ey+ez"
     ],
     "language": "python",
     "metadata": {},
     "outputs": []
    },
    {
     "cell_type": "code",
     "collapsed": false,
     "input": [
      "ex-ey"
     ],
     "language": "python",
     "metadata": {},
     "outputs": []
    },
    {
     "cell_type": "code",
     "collapsed": false,
     "input": [
      "# This should fail with an AssertionError\n",
      "ex+2"
     ],
     "language": "python",
     "metadata": {},
     "outputs": []
    },
    {
     "cell_type": "code",
     "collapsed": false,
     "input": [
      "2*ex, ex*2"
     ],
     "language": "python",
     "metadata": {},
     "outputs": []
    },
    {
     "cell_type": "code",
     "collapsed": false,
     "input": [
      "ex.dot(ex), ex.dot(ey), ex.dot(ez)"
     ],
     "language": "python",
     "metadata": {},
     "outputs": []
    },
    {
     "cell_type": "code",
     "collapsed": true,
     "input": [
      "ex.norm(), ey.norm(), ez.norm()"
     ],
     "language": "python",
     "metadata": {},
     "outputs": []
    },
    {
     "cell_type": "code",
     "collapsed": false,
     "input": [
      "ex.cross(ex), ex.cross(ey), ex.cross(ez)"
     ],
     "language": "python",
     "metadata": {},
     "outputs": []
    }
   ],
   "metadata": {}
  }
 ]
}