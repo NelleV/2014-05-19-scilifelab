{
 "metadata": {
  "name": ""
 },
 "nbformat": 3,
 "nbformat_minor": 0,
 "worksheets": [
  {
   "cells": [
    {
     "cell_type": "code",
     "collapsed": false,
     "input": [
      "%matplotlib inline\n",
      "import numpy as np\n",
      "import matplotlib.pyplot as plt"
     ],
     "language": "python",
     "metadata": {},
     "outputs": [],
     "prompt_number": 1
    },
    {
     "cell_type": "heading",
     "level": 2,
     "metadata": {},
     "source": [
      "Array creation"
     ]
    },
    {
     "cell_type": "code",
     "collapsed": false,
     "input": [
      "array1 = np.diag(np.arange(2., 7.), -1)[:, :-1]"
     ],
     "language": "python",
     "metadata": {},
     "outputs": [],
     "prompt_number": 2
    },
    {
     "cell_type": "code",
     "collapsed": false,
     "input": [
      "array1"
     ],
     "language": "python",
     "metadata": {},
     "outputs": [
      {
       "metadata": {},
       "output_type": "pyout",
       "prompt_number": 3,
       "text": [
        "array([[ 0.,  0.,  0.,  0.,  0.],\n",
        "       [ 2.,  0.,  0.,  0.,  0.],\n",
        "       [ 0.,  3.,  0.,  0.,  0.],\n",
        "       [ 0.,  0.,  4.,  0.,  0.],\n",
        "       [ 0.,  0.,  0.,  5.,  0.],\n",
        "       [ 0.,  0.,  0.,  0.,  6.]])"
       ]
      }
     ],
     "prompt_number": 3
    },
    {
     "cell_type": "code",
     "collapsed": false,
     "input": [
      "array2 = np.ones((4, 4), np.int)\n",
      "array2[3, 1] = 6\n",
      "array2[2, 3] = 2"
     ],
     "language": "python",
     "metadata": {},
     "outputs": [],
     "prompt_number": 4
    },
    {
     "cell_type": "code",
     "collapsed": false,
     "input": [
      "array2"
     ],
     "language": "python",
     "metadata": {},
     "outputs": [
      {
       "metadata": {},
       "output_type": "pyout",
       "prompt_number": 5,
       "text": [
        "array([[1, 1, 1, 1],\n",
        "       [1, 1, 1, 1],\n",
        "       [1, 1, 1, 2],\n",
        "       [1, 6, 1, 1]])"
       ]
      }
     ],
     "prompt_number": 5
    },
    {
     "cell_type": "heading",
     "level": 2,
     "metadata": {},
     "source": [
      "Selecting the positive elements of an array"
     ]
    },
    {
     "cell_type": "code",
     "collapsed": false,
     "input": [
      "def positive_elements(x):\n",
      "    return np.repeat(x, x > 0)"
     ],
     "language": "python",
     "metadata": {},
     "outputs": [],
     "prompt_number": 6
    },
    {
     "cell_type": "code",
     "collapsed": false,
     "input": [
      "x = np.arange(10)-5\n",
      "positive_elements(x)"
     ],
     "language": "python",
     "metadata": {},
     "outputs": [
      {
       "metadata": {},
       "output_type": "pyout",
       "prompt_number": 7,
       "text": [
        "array([1, 2, 3, 4])"
       ]
      }
     ],
     "prompt_number": 7
    },
    {
     "cell_type": "heading",
     "level": 2,
     "metadata": {},
     "source": [
      "Multiplication table"
     ]
    },
    {
     "cell_type": "code",
     "collapsed": false,
     "input": [
      "def multiplication_table(a, b):\n",
      "    return a[:, np.newaxis]*b[np.newaxis, :]"
     ],
     "language": "python",
     "metadata": {},
     "outputs": [],
     "prompt_number": 8
    },
    {
     "cell_type": "code",
     "collapsed": false,
     "input": [
      "a = np.arange(3)\n",
      "b = np.array([-1., 1., 2.])\n",
      "multiplication_table(a, b)"
     ],
     "language": "python",
     "metadata": {},
     "outputs": [
      {
       "metadata": {},
       "output_type": "pyout",
       "prompt_number": 9,
       "text": [
        "array([[-0.,  0.,  0.],\n",
        "       [-1.,  1.,  2.],\n",
        "       [-2.,  2.,  4.]])"
       ]
      }
     ],
     "prompt_number": 9
    },
    {
     "cell_type": "heading",
     "level": 2,
     "metadata": {},
     "source": [
      "Difference arrays"
     ]
    },
    {
     "cell_type": "code",
     "collapsed": false,
     "input": [
      "def differences(x):\n",
      "    return x[1:]-x[:-1]"
     ],
     "language": "python",
     "metadata": {},
     "outputs": [],
     "prompt_number": 10
    },
    {
     "cell_type": "code",
     "collapsed": false,
     "input": [
      "x = np.array([1., 2., -3., 0.])\n",
      "differences(x)"
     ],
     "language": "python",
     "metadata": {},
     "outputs": [
      {
       "metadata": {},
       "output_type": "pyout",
       "prompt_number": 11,
       "text": [
        "array([ 1., -5.,  3.])"
       ]
      }
     ],
     "prompt_number": 11
    },
    {
     "cell_type": "heading",
     "level": 2,
     "metadata": {},
     "source": [
      "Repeating array elements"
     ]
    },
    {
     "cell_type": "code",
     "collapsed": false,
     "input": [
      "def repeat_twice(a):\n",
      "    return np.repeat(np.repeat(a, 2, axis=0), 2, axis=1)"
     ],
     "language": "python",
     "metadata": {},
     "outputs": [],
     "prompt_number": 12
    },
    {
     "cell_type": "code",
     "collapsed": false,
     "input": [
      "a = np.array([[1, 2], [3, 4]])\n",
      "repeat_twice(a)"
     ],
     "language": "python",
     "metadata": {},
     "outputs": [
      {
       "metadata": {},
       "output_type": "pyout",
       "prompt_number": 13,
       "text": [
        "array([[1, 1, 2, 2],\n",
        "       [1, 1, 2, 2],\n",
        "       [3, 3, 4, 4],\n",
        "       [3, 3, 4, 4]])"
       ]
      }
     ],
     "prompt_number": 13
    },
    {
     "cell_type": "heading",
     "level": 2,
     "metadata": {},
     "source": [
      "Fitting polynomials"
     ]
    },
    {
     "cell_type": "markdown",
     "metadata": {},
     "source": [
      "Write a function that fits a set of data points $(x_k, y_k), k=1\\ldots K$ to a polynomial of a given order $N$,\n",
      "\n",
      "$$ P_N(x) = \\sum_{i=0}^N a_i x^i $$\n",
      "\n",
      "and returns the fitted coefficients $a_i$.\n",
      "\n",
      "Don't forget error checking: the number of data points must be greater than the number of polynomial coefficients!\n",
      "\n",
      "Hint: Write the fitting problem as a linear least-squares fit problem of the form\n",
      "\n",
      "$$ \\min_{a_j} \\sum_{k=1}^{K} \\sum_{j=0}^N (M_{kj}a_j-y_k)^2 $$\n",
      "\n",
      "where the elements of $M_{ij}$ are powers of the $x_i$. Use [`numpy.linalg.lstsq`](http://docs.scipy.org/doc/numpy/reference/generated/numpy.linalg.lstsq.html) to solve this least-squares problem."
     ]
    },
    {
     "cell_type": "code",
     "collapsed": false,
     "input": [
      "import numpy.linalg as la\n",
      "\n",
      "def fit_polynomial(N, x, y):\n",
      "    K = len(x)\n",
      "    if K != len(y):\n",
      "        raise ValueError('Inconsistent arguments')\n",
      "    ncoeff = N+1\n",
      "    if ncoeff > K:\n",
      "        raise ValueError('Not enough data points')\n",
      "    M = x[:, np.newaxis]**np.arange(ncoeff)\n",
      "    a, residuals, rank, s = la.lstsq(M, y)\n",
      "    return a"
     ],
     "language": "python",
     "metadata": {},
     "outputs": [],
     "prompt_number": 14
    },
    {
     "cell_type": "code",
     "collapsed": false,
     "input": [
      "# compute a parabola\n",
      "x = np.linspace(0., 2., 10)\n",
      "y = 0.7*x**2 - 2.2*x + 1.\n",
      "# add some noise\n",
      "import numpy.random as rnd\n",
      "y += rnd.normal(0., 0.2, y.shape)\n",
      "# compute the fit\n",
      "coeff = fit_polynomial(2, x, y)\n",
      "print coeff"
     ],
     "language": "python",
     "metadata": {},
     "outputs": [
      {
       "output_type": "stream",
       "stream": "stdout",
       "text": [
        "[ 0.97177062 -1.92940607  0.53023051]\n"
       ]
      }
     ],
     "prompt_number": 15
    },
    {
     "cell_type": "markdown",
     "metadata": {},
     "source": [
      "Plot the fitted polynomial and the data set."
     ]
    },
    {
     "cell_type": "code",
     "collapsed": false,
     "input": [
      "x_fit = np.linspace(-0.5, 2.5, 50)\n",
      "y_fit = np.dot(x_fit[:, np.newaxis]**np.arange(len(coeff))[np.newaxis, :], coeff)\n",
      "plt.plot(x, y, 'b+', x_fit, y_fit, 'g-')"
     ],
     "language": "python",
     "metadata": {},
     "outputs": [
      {
       "metadata": {},
       "output_type": "pyout",
       "prompt_number": 16,
       "text": [
        "[<matplotlib.lines.Line2D at 0x105b85ed0>,\n",
        " <matplotlib.lines.Line2D at 0x105b88150>]"
       ]
      },
      {
       "metadata": {},
       "output_type": "display_data",
       "png": "[encoded data removed]",
       "text": [
        "<matplotlib.figure.Figure at 0x105b5f610>"
       ]
      }
     ],
     "prompt_number": 16
    }
   ],
   "metadata": {}
  }
 ]
}