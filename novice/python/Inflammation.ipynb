{
 "metadata": {
  "name": "",
  "signature": "sha256:1fea43b2ba9fb9b16acc2adab4b872491ad999f53bac48a43eaa3530d669381b"
 },
 "nbformat": 3,
 "nbformat_minor": 0,
 "worksheets": [
  {
   "cells": [
    {
     "cell_type": "code",
     "collapsed": false,
     "input": [
      "def analyze(filename):\n",
      "    data = np.loadtxt(fname=filename, delimiter=',')\n",
      "    plt.figure(figsize=(10.0, 3.0))\n",
      "    \n",
      "    plt.subplot(1, 3, 1)\n",
      "    plt.ylabel('average')\n",
      "    plt.plot(data.mean(0))\n",
      "\n",
      "    plt.subplot(1, 3, 2)\n",
      "    plt.ylabel('max')\n",
      "    plt.plot(data.max(0))\n",
      "    \n",
      "    plt.subplot(1, 3, 3)\n",
      "    plt.ylabel('min')\n",
      "    plt.plot(data.min(0))\n",
      "\n",
      "    plt.tight_layout()\n",
      "    plt.savefig(filename + \".pdf\")"
     ],
     "language": "python",
     "metadata": {},
     "outputs": []
    },
    {
     "cell_type": "code",
     "collapsed": false,
     "input": [
      "if __name__ == \"__main__\":\n",
      "    import numpy as np\n",
      "    from matplotlib import pyplot as plt\n",
      "    import sys\n",
      "    filename = sys.argv[1]\n",
      "    print filename\n",
      "    analyze(filename)"
     ],
     "language": "python",
     "metadata": {},
     "outputs": []
    }
   ],
   "metadata": {}
  }
 ]
}