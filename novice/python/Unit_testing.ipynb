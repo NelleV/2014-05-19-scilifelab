{
 "metadata": {
  "name": "",
  "signature": "sha256:62e4df8cbdb1f4afae489467e68162e2e50c17469c4d4e4d507899373791a701"
 },
 "nbformat": 3,
 "nbformat_minor": 0,
 "worksheets": [
  {
   "cells": [
    {
     "cell_type": "code",
     "collapsed": false,
     "input": [
      "def scan(numbers):\n",
      "    results = []\n",
      "    total = 0\n",
      "    previous = 0\n",
      "    for n in numbers:\n",
      "        if n >= previous:\n",
      "            total += n\n",
      "        else:\n",
      "            total = n\n",
      "        results.append(total)\n",
      "        previous = n\n",
      "    return results"
     ],
     "language": "python",
     "metadata": {},
     "outputs": [],
     "prompt_number": 48
    },
    {
     "cell_type": "markdown",
     "metadata": {},
     "source": [
      "scan([1]) == [1]  \n",
      "scan([1, 2]) == [1, 3]  \n",
      "scan([1, 2, 3]) == [1, 3, 6]  \n",
      "scan([1, 5, 2, 7]) == [1, 6, 2, 9]  \n",
      "scan([1, 2, 3, 1, 2, 3]) == [1, 3, 6, 1, 3, 6]  \n",
      "scan([1, 2, 3, 4, 1, 2, 3]) == [1, 3, 6, 10, 1, 3, 6]  "
     ]
    },
    {
     "cell_type": "code",
     "collapsed": false,
     "input": [
      "def test_just_one():\n",
      "    assert scan([1]) == [1]\n",
      "def test_two():\n",
      "    assert scan([1, 2]) == [1, 3]\n",
      "def test_growth_shrink(): \n",
      "    assert scan([1, 2, 3, 4, 1, 2, 3]) == [1, 3, 6, 10, 1, 3, 6]  \n",
      "    "
     ],
     "language": "python",
     "metadata": {},
     "outputs": [],
     "prompt_number": 39
    },
    {
     "cell_type": "code",
     "collapsed": false,
     "input": [
      "def test_empty_list():\n",
      "    assert scan([]) == []\n",
      "def test_no_change():\n",
      "    assert scan([1,1,1,]) == [1,2,3]\n",
      "def test_negative_number():\n",
      "    scan([1, -1 ,0 ,2]) == [1, -1, -1, 1]"
     ],
     "language": "python",
     "metadata": {},
     "outputs": [],
     "prompt_number": 51
    },
    {
     "cell_type": "code",
     "collapsed": false,
     "input": [
      "test_negative_number()"
     ],
     "language": "python",
     "metadata": {},
     "outputs": [],
     "prompt_number": 52
    }
   ],
   "metadata": {}
  }
 ]
}